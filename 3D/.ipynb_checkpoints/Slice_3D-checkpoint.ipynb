{
 "cells": [
  {
   "cell_type": "code",
   "execution_count": null,
   "metadata": {},
   "outputs": [],
   "source": [
    "# Load the class first. This only needs to be run once\n",
    "from IPython.display import Image"
   ]
  },
  {
   "cell_type": "markdown",
   "metadata": {},
   "source": [
    "## -p参数：底图旋转"
   ]
  },
  {
   "cell_type": "code",
   "execution_count": null,
   "metadata": {},
   "outputs": [],
   "source": [
    "%%bash\n",
    "fig_name=test_basemap_p\n",
    "fig_fmt=png\n",
    "gmt begin $fig_name $fig_fmt\n",
    "gmt gmtset MAP_FRAME_TYPE=fancy+\n",
    "fig_width=14\n",
    "lon_min=-75\n",
    "lon_max=-60\n",
    "lat_min=-50\n",
    "lat_max=-40\n",
    "# 方位角\n",
    "azimuth=135\n",
    "# 仰角\n",
    "elevation=90\n",
    "range_lon_lat=$lon_min/$lon_max/$lat_min/$lat_max\n",
    "gmt basemap -JM${fig_width}c -R$range_lon_lat -Ba5f1 -BWSen+t\"(a) without -p\" -TdjBL+o0c/0c+w1.5c+f+l,E,,N\n",
    "gmt basemap -B -BWSen+t\"(b) -p\"$azimuth\"/\"$elevation -TdjBL+o0c/0c+w1.5c+f+l,E,,N -X16c -p${azimuth}/${elevation}\n",
    "# 更改仰角\n",
    "elevation=45\n",
    "gmt basemap -B -BWSen+t\"(c) -p\"$azimuth\"/\"$elevation -TdjBL+o0c/0c+w1.5c+f+l,E,,N -X19c -p${azimuth}/${elevation}\n",
    "gmt end"
   ]
  },
  {
   "cell_type": "code",
   "execution_count": null,
   "metadata": {},
   "outputs": [],
   "source": [
    "Image('test_basemap_p.png', width=800)"
   ]
  },
  {
   "cell_type": "markdown",
   "metadata": {},
   "source": [
    "## -JZ参数：纵轴（第三维）"
   ]
  },
  {
   "cell_type": "code",
   "execution_count": null,
   "metadata": {},
   "outputs": [],
   "source": [
    "%%bash\n",
    "fig_name=test_basemap_JZ\n",
    "fig_fmt=png\n",
    "gmt begin $fig_name $fig_fmt\n",
    "    gmt gmtset MAP_FRAME_TYPE=fancy+\n",
    "    fig_width=14\n",
    "    # 增加图像高度：及纵轴方向的长度\n",
    "    fig_height=8\n",
    "    lon_min=-75\n",
    "    lon_max=-60\n",
    "    lat_min=-50\n",
    "    lat_max=-40\n",
    "    # 增加纵轴方向的范围\n",
    "    z_min=0\n",
    "    z_max=999\n",
    "    # 方位角\n",
    "    azimuth=135\n",
    "    # 仰角\n",
    "    elevation=45\n",
    "    range_lon_lat=$lon_min/$lon_max/$lat_min/$lat_max\n",
    "    range_z=$z_min/$z_max\n",
    "    range=$range_lon_lat/$range_z\n",
    "    gmt basemap -R$range -JM$fig_width -JZ$fig_height -Ba5f1 -Bza250f50g250+l\"km\" -BWSenZ+b+t\"3D basemap: \"$azimuth\"/\"$elevation -TdjBL+o0c/0c+w1.5c+f+l,E,,N -pz${azimuth}/${elevation}\n",
    "    azimuth=45\n",
    "    gmt basemap -JZ -B -Bza250f50g250+l\"km\" -BWSenZ+b+t\"3D basemap: \"$azimuth\"/\"$elevation -TdjBL+o0c/0c+w1.5c+f+l,E,,N -pz${azimuth}/${elevation} -X19c\n",
    "    elevation=30\n",
    "    gmt basemap -JZ -B -Bza250f50g250+l\"km\" -BWSenZ+b+t\"3D basemap: \"$azimuth\"/\"$elevation -TdjBL+o0c/0c+w1.5c+f+l,E,,N -pz${azimuth}/${elevation} -X19c\n",
    "gmt end"
   ]
  },
  {
   "cell_type": "code",
   "execution_count": null,
   "metadata": {},
   "outputs": [],
   "source": [
    "Image('test_basemap_JZ.png', width=800)"
   ]
  },
  {
   "cell_type": "markdown",
   "metadata": {},
   "source": [
    "## 三维切片"
   ]
  },
  {
   "cell_type": "code",
   "execution_count": null,
   "metadata": {},
   "outputs": [],
   "source": [
    "%%bash\n",
    "#!/bin/bash\n",
    "gmt set GMT_COMPATIBILITY=5 MAP_FRAME_TYPE=plain\n",
    "# 1. 数据和绘图坐标参数设置\n",
    "fig_width_x=14\n",
    "fig_width_z=8\n",
    "# 数据范围\n",
    "lon_min=-75\n",
    "lon_max=-60\n",
    "lat_min=-50\n",
    "lat_max=-40\n",
    "zmin=0\n",
    "zmax=999\n",
    "# 数据中心点坐标\n",
    "lon0=`echo $lon_min $lon_max | awk '{print $1+($2-$1)/2.0}'`\n",
    "lat0=`echo $lat_min $lat_max | awk '{print $1+($2-$1)/2.0}'`\n",
    "echo $lon0 $lat0\n",
    "range_lon_lat=$lon_min/$lon_max/$lat_min/$lat_max\n",
    "range_z=$zmin/$zmax\n",
    "range=$range_lon_lat/$range_z\n",
    "# 投影参数\n",
    "proj_xy=M$lon0/$lat0/$fig_width_x  #x-y平面的投影参数\n",
    "# 数据文件名\n",
    "data_xy=base.nc\n",
    "data_xy_cart=base_cart.nc\n",
    "data_yz=slice_cut.nc\n",
    "\n",
    "# 2. x-y平面内的网格数据\n",
    "# gmt grdmath -R$range_lon_lat -I0.005 X D2R Y D2R ADD STO@xySum SIN @xySum 3 MUL NEG EXP MUL = $data_xy\n",
    "\n",
    "# 3. 沿纬度方向的垂直切片\n",
    "lat_min_slice=-47.5\n",
    "lat_max_slice=-42.5\n",
    "# gmt grdmath -R${lat_min_slice}/${lat_max_slice}/${zmin}/${zmax} -I0.005/0.5 X D2R -67.5 D2R ADD STO@xySum SIN @xySum 3 Y 1E4 DIV SUB MUL NEG EXP MUL = slice.nc\n",
    "\n",
    "# 4. 将数据范围投影到图像空间的大小:x对应经度方向；y对应纬度方向\n",
    "xmin=`echo $lon_min $lat_min | gmt mapproject -R$range_lon_lat -J$proj_xy | awk '{print $1}'`\n",
    "ymin=`echo $lon_min $lat_min | gmt mapproject -R$range_lon_lat -J$proj_xy | awk '{print $2}'`\n",
    "xmax=`echo $lon_max $lat_max | gmt mapproject -R$range_lon_lat -J$proj_xy | awk '{print $1}'`\n",
    "ymax=`echo $lon_max $lat_max | gmt mapproject -R$range_lon_lat -J$proj_xy | awk '{print $2}'`\n",
    "ymin_slice=`echo $lon0 $lat_min_slice | gmt mapproject -R$range_lon_lat -J$proj_xy | awk '{print $2}'`\n",
    "ymax_slice=`echo $lon0 $lat_max_slice | gmt mapproject -R$range_lon_lat -J$proj_xy | awk '{print $2}'`\n",
    "echo $xmin $xmax $ymin $ymax $ymin_slice $ymax_slice\n",
    "fig_width_y=$ymax\n",
    "\n",
    "# 5. 将切片数据投影到图像大小的空间：最好利用中心经度，也就是后面的-JM参数中的中心经度值\n",
    "# mapproject输入经纬度值（读取前两列），投影参数与后面作图的时候一致，输出的前两列是x,y值，位于[0,fig_width_x]和[0,fig_width_y]范围内,fig_width_y目前还不知道，需要计算\n",
    "# gmt grd2xyz slice.nc | awk '{print \"'$lon0'\",$0}' | gmt mapproject -R$range_lon_lat -J$proj_xy |awk '{print $2,$3,$4}'> points.txt\n",
    "# gmt grdproject $data_xy -R$range_lon_lat -J$proj_xy -r -E300 -G$data_xy_cart\n",
    "\n",
    "# 6. 重新网格化切片\n",
    "# gmt surface points.txt -G$data_yz -R$ymin_slice/$ymax_slice/$zmin/$zmax -I1500+/2000+ -C0.1 -T0.25\n",
    "\n",
    "# # 开始绘图\n",
    "proj_yz=X$fig_width_y/$fig_width_z\n",
    "proj_xz=X$fig_width_x/$fig_width_z\n",
    "rm gmt.history gmt.conf\n",
    "# 8.1 将数据显示在平面内\n",
    "fig_name=vslice_gmt\n",
    "fig_fmt=png\n",
    "gmt begin $fig_name $fig_fmt\n",
    "    # x-y平面的数据显示\n",
    "    gmt basemap -J$proj_xy -R$range_lon_lat -Ba5f1 -BWSen+t\"Data on x-y plane\"\n",
    "    gmt grdimage $data_xy -Crainbow\n",
    "    gmt coast -Df -A0/0/1 -N1/0.5p,black,-..- -W0.5p,black\n",
    "    # y-z切片数据显示\n",
    "    move_x=16\n",
    "    gmt basemap -J$proj_yz -R$ymin/$ymax/$zmin/$zmax -Bxa5f1+l\"y (latitude)\" -Bya200f40+l\"z (km)\" -BWSen+t\"Slice data on y-z plane\" -X$move_x -p90/90\n",
    "    gmt grdimage $data_yz -Crainbow -p\n",
    "    # x-z切片数据显示\n",
    "    gmt basemap -J$proj_yz -R$xmin/$xmax/$zmin/$zmax -Bxa5f1+l\"x (longitude)\" -Bya200f40+l\"z (km)\" -BWSen+t\"Slice data on x-z plane\" -X-$move_x -Y-10\n",
    "    gmt grdimage $data_yz -Chot\n",
    "gmt end\n",
    "\n",
    "\n",
    "# 8.2 显示为3维切片形式\n",
    "# 方位角设置\n",
    "azimuth=135\n",
    "elevation=45\n",
    "angle_view=$azimuth/$elevation\n",
    "fig_name=vslice_gmt_3D\n",
    "fig_fmt=png\n",
    "gmt begin $fig_name $fig_fmt\n",
    "    echo \"figwidth \"$fig_width_x $fig_width_y $fig_width_z\n",
    "    echo \"range \" $xmin $xmax $ymin $ymax $zmin $zmax\n",
    "    # 三维框架\n",
    "    gmt basemap -J$proj_xy -JZ$fig_width_z -R$range -pz$angle_view -Ba5f1 -Bza200f40g200+l\"Z (km)\" -BwSEnZ+b\n",
    "    # 贴x-y平面数据图\n",
    "    gmt grdimage $data_xy -J$proj_xy -JZ$fig_width_z -R$range -pz$angle_view/0 -Crainbow --MAP_FRAME_AXES=''\n",
    "    gmt coast -J$proj_xy -JZ$fig_width_z -R$range -pz$angle_view/0 -Df -A0/0/1 -N1/0.5p,black,-..- -W0.5p,black\n",
    "    # # 贴y-z平面的切片数据\n",
    "    gmt grdimage $data_yz -JX$fig_width_y/$fig_width_z -JZ$fig_width_x -R$ymin/$ymax/$zmin/$zmax/$xmin/$xmax  -px$angle_view/7 -Crainbow\n",
    "    gmt grdimage $data_yz -JX$fig_width_x/$fig_width_z -JZ$fig_width_y -R$xmin/$xmax/$zmin/$zmax/$ymin/$ymax -py$angle_view/0 -Chot\n",
    "gmt end\n"
   ]
  },
  {
   "cell_type": "code",
   "execution_count": null,
   "metadata": {},
   "outputs": [],
   "source": [
    "Image('vslice_gmt.png', width=800)"
   ]
  },
  {
   "cell_type": "code",
   "execution_count": null,
   "metadata": {},
   "outputs": [],
   "source": [
    "Image('vslice_gmt_3D.png', width=800)"
   ]
  },
  {
   "cell_type": "code",
   "execution_count": null,
   "metadata": {},
   "outputs": [],
   "source": []
  }
 ],
 "metadata": {
  "kernelspec": {
   "display_name": "Python 3",
   "language": "python",
   "name": "python3"
  },
  "language_info": {
   "codemirror_mode": {
    "name": "ipython",
    "version": 3
   },
   "file_extension": ".py",
   "mimetype": "text/x-python",
   "name": "python",
   "nbconvert_exporter": "python",
   "pygments_lexer": "ipython3",
   "version": "3.6.3"
  }
 },
 "nbformat": 4,
 "nbformat_minor": 2
}
